{
 "cells": [
  {
   "cell_type": "code",
   "execution_count": null,
   "metadata": {},
   "outputs": [],
   "source": [
    "import pandas as pd\n",
    "import numpy as np\n",
    "from matplotlib import pyplot as plt\n",
    "from sklearn.calibration import LabelEncoder\n",
    "from sklearn.model_selection import train_test_split\n",
    "from sklearn.preprocessing import MinMaxScaler\n",
    "from sklearn.ensemble import RandomForestClassifier\n",
    "from sklearn.model_selection import cross_val_score\n",
    "from sklearn.ensemble import GradientBoostingClassifier\n",
    "from sklearn.metrics import classification_report\n",
    "from sklearn.ensemble import RandomForestRegressor\n",
    "from sklearn.ensemble import GradientBoostingRegressor\n",
    "from sklearn.metrics import mean_absolute_error"
   ]
  },
  {
   "cell_type": "code",
   "execution_count": null,
   "metadata": {},
   "outputs": [],
   "source": [
    "avo=pd.read_csv('avocado.csv')\n",
    "avo"
   ]
  },
  {
   "cell_type": "code",
   "execution_count": null,
   "metadata": {},
   "outputs": [],
   "source": [
    "avo.info()"
   ]
  },
  {
   "cell_type": "code",
   "execution_count": null,
   "metadata": {},
   "outputs": [],
   "source": [
    "avo=avo.drop(columns=avo.columns.values[0],axis=1)\n",
    "avo.info()"
   ]
  },
  {
   "cell_type": "code",
   "execution_count": null,
   "metadata": {},
   "outputs": [],
   "source": [
    "avo.Date=avo.Date.astype('datetime64[ns]')\n",
    "avo.info()"
   ]
  },
  {
   "cell_type": "code",
   "execution_count": null,
   "metadata": {},
   "outputs": [],
   "source": [
    "avo.type.value_counts()"
   ]
  },
  {
   "cell_type": "code",
   "execution_count": null,
   "metadata": {},
   "outputs": [],
   "source": [
    "avo.type=avo.type.map({\n",
    "    'conventional': 0,\n",
    "    'organic': 1\n",
    "    }).astype('int64')\n",
    "avo.info()"
   ]
  },
  {
   "cell_type": "code",
   "execution_count": null,
   "metadata": {},
   "outputs": [],
   "source": [
    "avo['year']=avo.Date.dt.year\n",
    "avo['month']=avo.Date.dt.month\n",
    "avo=avo.drop(columns=['Date'],axis=1)\n",
    "avo.info()"
   ]
  },
  {
   "cell_type": "markdown",
   "metadata": {},
   "source": [
    "## Classification to predict the region"
   ]
  },
  {
   "cell_type": "code",
   "execution_count": null,
   "metadata": {},
   "outputs": [],
   "source": [
    "avo_classification=avo.copy()\n",
    "le=LabelEncoder()\n",
    "avo_classification.region=le.fit_transform(avo_classification.region)\n",
    "avo_classification.info()"
   ]
  },
  {
   "cell_type": "code",
   "execution_count": null,
   "metadata": {},
   "outputs": [],
   "source": [
    "X,y=avo_classification.drop(columns=['region'],axis=1),avo_classification.region\n",
    "X_train,X_test,y_train,y_test=train_test_split(X,\n",
    "                                               y,\n",
    "                                               test_size=0.2,\n",
    "                                               shuffle=True,\n",
    "                                               stratify=y,\n",
    "                                               random_state=42)"
   ]
  },
  {
   "cell_type": "code",
   "execution_count": null,
   "metadata": {},
   "outputs": [],
   "source": [
    "scaler=MinMaxScaler()\n",
    "X_train_scaled=scaler.fit_transform(X_train)\n",
    "X_test_scaled=scaler.transform(X_test)"
   ]
  },
  {
   "cell_type": "code",
   "execution_count": null,
   "metadata": {},
   "outputs": [],
   "source": [
    "# Random forest model\n",
    "rfc=RandomForestClassifier(random_state=42)\n",
    "cv_score=cross_val_score(estimator=rfc,\n",
    "                        X=X_train_scaled,\n",
    "                        y=y_train,\n",
    "                        scoring='accuracy',\n",
    "                        cv=10,\n",
    "                        n_jobs=-1).mean()\n",
    "rfc.fit(X=X_train_scaled,\n",
    "        y=y_train)\n",
    "test_score=rfc.score(X=X_test_scaled,\n",
    "                     y=y_test)\n",
    "print(f'Cross val score = {cv_score}')\n",
    "print(f'Test score = {test_score}')\n",
    "print(f'Score diff = {abs(cv_score-test_score)}')"
   ]
  },
  {
   "cell_type": "code",
   "execution_count": null,
   "metadata": {},
   "outputs": [],
   "source": [
    "# Gradient boosting model\n",
    "gbc=GradientBoostingClassifier(random_state=42)\n",
    "cv_score=cross_val_score(estimator=gbc,\n",
    "                        X=X_train_scaled,\n",
    "                        y=y_train,\n",
    "                        scoring='accuracy',\n",
    "                        cv=10,\n",
    "                        n_jobs=-1).mean()\n",
    "gbc.fit(X=X_train_scaled,\n",
    "        y=y_train)\n",
    "test_score=gbc.score(X=X_test_scaled,\n",
    "                     y=y_test)\n",
    "print(f'Cross val score = {cv_score}')\n",
    "print(f'Test score = {test_score}')\n",
    "print(f'Score diff = {abs(cv_score-test_score)}')"
   ]
  },
  {
   "cell_type": "code",
   "execution_count": null,
   "metadata": {},
   "outputs": [],
   "source": [
    "## Final model is the Random Forest model\n",
    "feature_importance=pd.Series(data=rfc.feature_importances_,\n",
    "                             index=X.columns.values).sort_values()\n",
    "plt.figure(figsize=(10,6))\n",
    "feature_importance.plot.barh();"
   ]
  },
  {
   "cell_type": "code",
   "execution_count": null,
   "metadata": {},
   "outputs": [],
   "source": [
    "y_pred=rfc.predict(X_test_scaled)\n",
    "print(classification_report(y_pred=y_pred,\n",
    "                            y_true=y_test))"
   ]
  },
  {
   "cell_type": "markdown",
   "metadata": {},
   "source": [
    "## Regression to predict the price"
   ]
  },
  {
   "cell_type": "code",
   "execution_count": null,
   "metadata": {},
   "outputs": [],
   "source": [
    "avo_reg=avo.copy()"
   ]
  },
  {
   "cell_type": "code",
   "execution_count": null,
   "metadata": {},
   "outputs": [],
   "source": [
    "avo_reg=pd.concat([avo_reg.drop(columns=['region'],axis=1),pd.get_dummies(avo.region,\n",
    "                                  drop_first=True).astype('int64')], \n",
    "                                  axis=1,\n",
    "                                  join='inner')\n",
    "avo_reg"
   ]
  },
  {
   "cell_type": "code",
   "execution_count": null,
   "metadata": {},
   "outputs": [],
   "source": [
    "X,y=avo_reg.drop(columns=['AveragePrice'],axis=1),avo_reg.AveragePrice\n",
    "\n",
    "X_train,X_test,y_train,y_test=train_test_split(X,\n",
    "                                               y,\n",
    "                                               test_size=0.2,\n",
    "                                               shuffle=True,\n",
    "                                               random_state=42)\n",
    "scaler=MinMaxScaler()\n",
    "X_train_scaled=scaler.fit_transform(X_train)\n",
    "X_test_scaled=scaler.transform(X_test)"
   ]
  },
  {
   "cell_type": "code",
   "execution_count": null,
   "metadata": {},
   "outputs": [],
   "source": [
    "# Random forest model\n",
    "rfr=RandomForestRegressor(random_state=42)\n",
    "cv_score=cross_val_score(estimator=rfr,\n",
    "                         X=X_train_scaled,\n",
    "                         y=y_train,\n",
    "                         scoring='neg_mean_absolute_error',\n",
    "                         cv=10,\n",
    "                         n_jobs=-1).mean()*-1\n",
    "rfr.fit(X=X_train_scaled,\n",
    "        y=y_train)\n",
    "test_score=mean_absolute_error(y_pred=rfr.predict(X=X_test_scaled),\n",
    "                               y_true=y_test)\n",
    "print(f'Cross val score = {cv_score}')\n",
    "print(f'Test score = {test_score}')\n",
    "print(f'Score diff = {abs(cv_score-test_score)}')"
   ]
  },
  {
   "cell_type": "code",
   "execution_count": null,
   "metadata": {},
   "outputs": [],
   "source": [
    "# Gradient boosting model\n",
    "gbr=GradientBoostingRegressor(random_state=42)\n",
    "cv_score=cross_val_score(estimator=gbr,\n",
    "                         X=X_train_scaled,\n",
    "                         y=y_train,\n",
    "                         scoring='neg_mean_absolute_error',\n",
    "                         cv=10,\n",
    "                         n_jobs=-1).mean()*-1\n",
    "gbr.fit(X=X_train_scaled,\n",
    "        y=y_train)\n",
    "test_score=mean_absolute_error(y_pred=gbr.predict(X=X_test_scaled),\n",
    "                               y_true=y_test)\n",
    "print(f'Cross val score = {cv_score}')\n",
    "print(f'Test score = {test_score}')\n",
    "print(f'Score diff = {abs(cv_score-test_score)}')"
   ]
  },
  {
   "cell_type": "code",
   "execution_count": null,
   "metadata": {},
   "outputs": [],
   "source": [
    "## Final regression model is the Random Forest\n",
    "\n",
    "feature_importance=pd.Series(data=rfr.feature_importances_,\n",
    "                             index=X.columns.values).sort_values(ascending=False)\n",
    "plt.figure(figsize=(15,6))\n",
    "feature_importance.plot.bar();\n",
    "y_pred=rfr.predict(X_test_scaled)"
   ]
  },
  {
   "cell_type": "code",
   "execution_count": null,
   "metadata": {},
   "outputs": [],
   "source": [
    "selected_features=feature_importance.cumsum()[feature_importance.cumsum()<=0.95].index.values\n",
    "selected_features"
   ]
  },
  {
   "cell_type": "code",
   "execution_count": null,
   "metadata": {},
   "outputs": [],
   "source": [
    "X=X.copy()[selected_features]\n",
    "X_train,X_test,y_train,y_test=train_test_split(X,\n",
    "                                               y,\n",
    "                                               test_size=0.2,\n",
    "                                               shuffle=True,\n",
    "                                               random_state=42)\n",
    "\n",
    "scaler=MinMaxScaler()\n",
    "X_train_scaled=scaler.fit_transform(X_train)\n",
    "X_test_scaled=scaler.transform(X_test)"
   ]
  },
  {
   "cell_type": "code",
   "execution_count": null,
   "metadata": {},
   "outputs": [],
   "source": [
    "# Random forest model\n",
    "rfr=RandomForestRegressor(random_state=42)\n",
    "cv_score=cross_val_score(estimator=rfr,\n",
    "                         X=X_train_scaled,\n",
    "                         y=y_train,\n",
    "                         scoring='neg_mean_absolute_error',\n",
    "                         cv=10,\n",
    "                         n_jobs=-1).mean()*-1\n",
    "rfr.fit(X=X_train_scaled,\n",
    "        y=y_train)\n",
    "test_score=mean_absolute_error(y_pred=rfr.predict(X=X_test_scaled),\n",
    "                               y_true=y_test)\n",
    "print(f'Cross val score = {cv_score}')\n",
    "print(f'Test score = {test_score}')\n",
    "print(f'Score diff = {abs(cv_score-test_score)}')"
   ]
  },
  {
   "cell_type": "code",
   "execution_count": null,
   "metadata": {},
   "outputs": [],
   "source": [
    "feature_importance=pd.Series(data=rfr.feature_importances_,\n",
    "                             index=X.columns.values).sort_values(ascending=False)\n",
    "plt.figure(figsize=(12,6))\n",
    "feature_importance.plot.bar();\n",
    "y_pred=rfr.predict(X_test_scaled)"
   ]
  }
 ],
 "metadata": {
  "kernelspec": {
   "display_name": "First_Phase_Evaluation_Projects-yvLZ-05I",
   "language": "python",
   "name": "python3"
  },
  "language_info": {
   "codemirror_mode": {
    "name": "ipython",
    "version": 3
   },
   "file_extension": ".py",
   "mimetype": "text/x-python",
   "name": "python",
   "nbconvert_exporter": "python",
   "pygments_lexer": "ipython3",
   "version": "3.8.10"
  }
 },
 "nbformat": 4,
 "nbformat_minor": 2
}
