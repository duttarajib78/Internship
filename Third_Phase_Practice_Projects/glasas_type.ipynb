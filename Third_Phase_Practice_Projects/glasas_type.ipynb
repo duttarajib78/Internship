{
 "cells": [
  {
   "cell_type": "code",
   "execution_count": null,
   "metadata": {},
   "outputs": [],
   "source": [
    "import pandas as pd\n",
    "import numpy as np\n",
    "from matplotlib import pyplot as plt\n",
    "from matplotlib_inline import backend_inline\n",
    "backend_inline.set_matplotlib_formats('svg')\n",
    "import seaborn as sns\n",
    "from sklearn.model_selection import train_test_split\n",
    "from sklearn.preprocessing import MinMaxScaler\n",
    "from sklearn.ensemble import RandomForestClassifier,GradientBoostingClassifier\n",
    "from sklearn.utils import compute_class_weight\n",
    "from sklearn.model_selection import cross_val_score\n",
    "from sklearn.metrics import roc_auc_score\n",
    "from skopt import BayesSearchCV\n",
    "import warnings\n",
    "warnings.filterwarnings('ignore')"
   ]
  },
  {
   "cell_type": "markdown",
   "metadata": {},
   "source": [
    "## Read the data"
   ]
  },
  {
   "cell_type": "code",
   "execution_count": null,
   "metadata": {},
   "outputs": [],
   "source": [
    "columns=['Id','RI','Na','Mg','Al','Si','K','Ca','Ba','Fe','Type']\n",
    "glass_type=pd.read_csv(\"https://raw.githubusercontent.com/FlipRoboTechnologies/ML-Datasets/main/Glass%20Identification/Glass%20Identification.csv\",\n",
    "                       header=None)\n",
    "glass_type.columns=columns\n",
    "glass_type"
   ]
  },
  {
   "cell_type": "code",
   "execution_count": null,
   "metadata": {},
   "outputs": [],
   "source": [
    "glass_type['Type_bin']=np.where(glass_type.Type<5,0,1)\n",
    "glass_type"
   ]
  },
  {
   "cell_type": "markdown",
   "metadata": {},
   "source": [
    "## EDA"
   ]
  },
  {
   "cell_type": "code",
   "execution_count": null,
   "metadata": {},
   "outputs": [],
   "source": [
    "glass_type.info()"
   ]
  },
  {
   "cell_type": "code",
   "execution_count": null,
   "metadata": {},
   "outputs": [],
   "source": [
    "glass_type.drop(columns=['Id','Type'],inplace=True)\n",
    "glass_type"
   ]
  },
  {
   "cell_type": "code",
   "execution_count": null,
   "metadata": {},
   "outputs": [],
   "source": [
    "glass_type_eda=glass_type.copy()\n",
    "glass_type_eda['Type_text']=np.where(glass_type_eda.Type_bin==0,'Window Glass','Non-Window Glass')\n",
    "glass_type_eda.drop(columns=['Type_bin'],inplace=True)\n",
    "glass_type_eda"
   ]
  },
  {
   "cell_type": "code",
   "execution_count": null,
   "metadata": {},
   "outputs": [],
   "source": [
    "glass_type_eda.Type_text.value_counts(normalize=True)"
   ]
  },
  {
   "cell_type": "markdown",
   "metadata": {},
   "source": [
    "### Univariate Analysis"
   ]
  },
  {
   "cell_type": "code",
   "execution_count": null,
   "metadata": {},
   "outputs": [],
   "source": [
    "glass_type_eda.describe()"
   ]
  },
  {
   "cell_type": "code",
   "execution_count": null,
   "metadata": {},
   "outputs": [],
   "source": [
    "for col in glass_type_eda.iloc[:,:-1].columns.values:\n",
    "    plt.figure(figsize=(12,6))\n",
    "    glass_type_eda[col].plot.hist(bins=50)\n",
    "    plt.xlabel(col)\n",
    "    plt.show()"
   ]
  },
  {
   "cell_type": "markdown",
   "metadata": {},
   "source": [
    "### Bivariate Analysis"
   ]
  },
  {
   "cell_type": "code",
   "execution_count": null,
   "metadata": {},
   "outputs": [],
   "source": [
    "plt.figure(figsize=(12,6))\n",
    "sns.heatmap(data=glass_type_eda.drop(columns=['Type_text']).corr(),\n",
    "            annot=True,\n",
    "            cmap='coolwarm',\n",
    "            vmin=-1,\n",
    "            vmax=1)\n",
    "plt.show()"
   ]
  },
  {
   "cell_type": "code",
   "execution_count": null,
   "metadata": {},
   "outputs": [],
   "source": [
    "for col in glass_type_eda.iloc[:,:-1].columns.values:\n",
    "    plt.figure(figsize=(12,6))\n",
    "    sns.kdeplot(hue='Type_text',x=col,data=glass_type_eda)\n",
    "    plt.xlabel(col)\n",
    "    plt.show()"
   ]
  },
  {
   "cell_type": "code",
   "execution_count": null,
   "metadata": {},
   "outputs": [],
   "source": [
    "for col in glass_type_eda.iloc[:,:-1].columns.values:\n",
    "    plt.figure(figsize=(12,6))\n",
    "    glass_type_eda.groupby('Type_text')[col].mean().plot.bar()\n",
    "    plt.axhline(y=glass_type_eda[col].mean(),color='red')\n",
    "    plt.xlabel(col)\n",
    "    plt.show()"
   ]
  },
  {
   "cell_type": "markdown",
   "metadata": {},
   "source": [
    "### Data Preparation"
   ]
  },
  {
   "cell_type": "code",
   "execution_count": null,
   "metadata": {},
   "outputs": [],
   "source": [
    "X,y=glass_type.drop(columns=['Type_bin'],axis=1),glass_type['Type_bin']\n",
    "scaler=MinMaxScaler()\n",
    "X_train,X_test,y_train,y_test=train_test_split(X,\n",
    "                                               y,\n",
    "                                               test_size=0.2,\n",
    "                                               shuffle=True,\n",
    "                                               stratify=y,\n",
    "                                               random_state=42)\n",
    "\n",
    "scaler.fit(X_train)\n",
    "X_train_scaled=scaler.transform(X_train)\n",
    "X_test_scaled=scaler.transform(X_test)"
   ]
  },
  {
   "cell_type": "markdown",
   "metadata": {},
   "source": [
    "### Model Building"
   ]
  },
  {
   "cell_type": "code",
   "execution_count": null,
   "metadata": {},
   "outputs": [],
   "source": [
    "for rs in range(1,1001):\n",
    "    score_dict={}\n",
    "    model=RandomForestClassifier(random_state=rs,\n",
    "                                 class_weight='balanced')\n",
    "    cw=compute_class_weight(class_weight='balanced',\n",
    "                     classes=np.unique(y),\n",
    "                     y=y)\n",
    "    sample_weight=np.where(y_train==0,cw[0],cw[-1])\n",
    "    cv=10\n",
    "    cv_scores=cross_val_score(estimator=model,\n",
    "                              X=X_train_scaled,\n",
    "                              y=y_train,\n",
    "                              cv=cv,\n",
    "                              scoring='roc_auc',\n",
    "                              n_jobs=-1).mean()\n",
    "    model.fit(X=X_train_scaled,\n",
    "              y=y_train,\n",
    "              sample_weight=sample_weight)\n",
    "    y_pred_proba=model.predict_proba(X_test_scaled)[:,1]\n",
    "    test_score=roc_auc_score(y_true=y_test,\n",
    "                            y_score=y_pred_proba)\n",
    "    score_diff=abs(test_score-cv_scores)\n",
    "    score_dict[rs]=[cv_scores,test_score,score_diff]\n",
    "\n",
    "best_rs=min(score_dict,key=lambda x:score_dict[x][-1])\n",
    "\n",
    "print(f'Best Random State: {best_rs}')\n",
    "print(f'Best CV Score: {score_dict[best_rs][0]}')\n",
    "print(f'Best Test Score: {score_dict[best_rs][1]}')\n",
    "print(f'Least Score difference: {score_dict[best_rs][-1]}')"
   ]
  },
  {
   "cell_type": "markdown",
   "metadata": {},
   "source": [
    "### Hyperparameter Tuning"
   ]
  },
  {
   "cell_type": "code",
   "execution_count": null,
   "metadata": {},
   "outputs": [],
   "source": [
    "model=RandomForestClassifier(random_state=best_rs,\n",
    "                             class_weight='balanced')\n",
    "n_estimators = np.linspace(start = 100, stop = 2000, num = 10).astype(np.int64)\n",
    "max_features = ['log2', 'sqrt']\n",
    "max_depth = np.linspace(start=10, stop=100, num=10).astype(np.int64).tolist()\n",
    "max_depth.append(None)\n",
    "min_samples_leaf = np.linspace(start=2,stop=10, num=5).astype(np.int64)\n",
    "bootstrap = [True, False]\n",
    "\n",
    "random_grid = {'n_estimators': n_estimators,\n",
    "               'max_features': max_features,\n",
    "               'max_depth': max_depth,\n",
    "               'min_samples_leaf': min_samples_leaf,\n",
    "               'bootstrap': bootstrap}\n",
    "optimizer=BayesSearchCV(estimator=model,\n",
    "                        search_spaces=random_grid,\n",
    "                        n_iter=500,\n",
    "                        cv=10,\n",
    "                        scoring='roc_auc',\n",
    "                        n_jobs=-1)\n",
    "optimizer.fit(X=X_train_scaled,\n",
    "              y=y_train,\n",
    "              sample_weight=sample_weight)"
   ]
  }
 ],
 "metadata": {
  "kernelspec": {
   "display_name": "Third_Phase_Practice_Projects-bSB8WfhN",
   "language": "python",
   "name": "python3"
  },
  "language_info": {
   "codemirror_mode": {
    "name": "ipython",
    "version": 3
   },
   "file_extension": ".py",
   "mimetype": "text/x-python",
   "name": "python",
   "nbconvert_exporter": "python",
   "pygments_lexer": "ipython3",
   "version": "3.8.10"
  }
 },
 "nbformat": 4,
 "nbformat_minor": 2
}
