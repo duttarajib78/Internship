{
 "cells": [
  {
   "metadata": {},
   "cell_type": "markdown",
   "source": "## Import packages",
   "id": "e66de3174aa0368f"
  },
  {
   "metadata": {},
   "cell_type": "code",
   "source": [
    "import pandas as pd\n",
    "import numpy as np\n",
    "from matplotlib import pyplot as plt\n",
    "from matplotlib_inline import backend_inline\n",
    "from sklearn.model_selection import train_test_split\n",
    "from sklearn.preprocessing import MinMaxScaler\n",
    "from sklearn.metrics import mean_absolute_error\n",
    "from sklearn.model_selection import KFold, cross_val_score,GridSearchCV\n",
    "from sklearn.ensemble import GradientBoostingRegressor, RandomForestRegressor, BaggingRegressor\n",
    "from sklearn.linear_model import LinearRegression,ElasticNet,Ridge,Lasso\n",
    "from sklearn.svm import SVR\n",
    "from sklearn.tree import DecisionTreeRegressor\n",
    "from sklearn.inspection import PartialDependenceDisplay\n",
    "backend_inline.set_matplotlib_formats('svg')\n",
    "import seaborn as sns\n",
    "import warnings\n",
    "warnings.filterwarnings('ignore')"
   ],
   "id": "9a376c6d2daf3bcf",
   "outputs": [],
   "execution_count": null
  },
  {
   "metadata": {},
   "cell_type": "markdown",
   "source": "## Read the dataset",
   "id": "3c29ab8bb47f2dde"
  },
  {
   "metadata": {},
   "cell_type": "code",
   "source": "medical_costs=pd.read_csv('https://raw.githubusercontent.com/FlipRoboTechnologies/ML-Datasets/main/Medical%20Cost%20Insurance/medical_cost_insurance.csv')",
   "id": "5e576055ba7748e3",
   "outputs": [],
   "execution_count": null
  },
  {
   "metadata": {},
   "cell_type": "markdown",
   "source": "## Exploring the data",
   "id": "2caca1e6409c428c"
  },
  {
   "metadata": {},
   "cell_type": "code",
   "source": "medical_costs.info()",
   "id": "e0c5f9a80cb7abc9",
   "outputs": [],
   "execution_count": null
  },
  {
   "metadata": {},
   "cell_type": "code",
   "source": [
    "medical_costs.children=medical_costs.children.astype('object')\n",
    "medical_costs.info()"
   ],
   "id": "e9ea336ef8035f3b",
   "outputs": [],
   "execution_count": null
  },
  {
   "metadata": {},
   "cell_type": "markdown",
   "source": "## Univariate EDA",
   "id": "86342c624444930b"
  },
  {
   "metadata": {},
   "cell_type": "markdown",
   "source": "### Categorical columns",
   "id": "3cc9cc636f70bea5"
  },
  {
   "metadata": {},
   "cell_type": "code",
   "source": [
    "cat_col_df=medical_costs.select_dtypes('object')\n",
    "for col in cat_col_df.columns.values:\n",
    "    print(cat_col_df[col].value_counts(normalize=True),'\\n')"
   ],
   "id": "af2872e70a84a14d",
   "outputs": [],
   "execution_count": null
  },
  {
   "metadata": {},
   "cell_type": "code",
   "source": [
    "medical_costs.children=np.where((medical_costs['children']==3) | (medical_costs['children']==4) | (medical_costs['children']==5), '3 or more', medical_costs.children)\n",
    "medical_costs.children.value_counts(normalize=True)"
   ],
   "id": "d933874bcac61712",
   "outputs": [],
   "execution_count": null
  },
  {
   "metadata": {},
   "cell_type": "code",
   "source": [
    "cat_col_df=medical_costs.select_dtypes('object')\n",
    "for col in cat_col_df.columns.values:\n",
    "    plt.figure(figsize=(10,6))\n",
    "    cat_col_df[col].value_counts(normalize=True).plot.bar(stacked=True)\n",
    "    plt.show()"
   ],
   "id": "b412953b6421c7f1",
   "outputs": [],
   "execution_count": null
  },
  {
   "metadata": {},
   "cell_type": "markdown",
   "source": "### Numerical columns",
   "id": "c5077bbb64c6ffe2"
  },
  {
   "metadata": {},
   "cell_type": "code",
   "source": [
    "num_col_df=medical_costs.select_dtypes('number')\n",
    "num_col_df.describe()"
   ],
   "id": "7dcf901bf50c7abb",
   "outputs": [],
   "execution_count": null
  },
  {
   "metadata": {},
   "cell_type": "code",
   "source": [
    "for col in num_col_df.columns.values:\n",
    "    plt.figure(figsize=(10,6))\n",
    "    num_col_df[col].plot.hist(bins=30)\n",
    "    plt.xlabel(col)\n",
    "    plt.show()"
   ],
   "id": "6e528f6dcee74394",
   "outputs": [],
   "execution_count": null
  },
  {
   "metadata": {},
   "cell_type": "markdown",
   "source": "## Within features bivariate EDA",
   "id": "82a8120f4d787a06"
  },
  {
   "metadata": {},
   "cell_type": "code",
   "source": [
    "num_col_features_df=num_col_df.drop(columns=['charges'])\n",
    "num_col_features_df.corr()"
   ],
   "id": "e4f0cfc87e32f623",
   "outputs": [],
   "execution_count": null
  },
  {
   "metadata": {},
   "cell_type": "code",
   "source": [
    "plt.figure(figsize=(10,6))\n",
    "sns.heatmap(num_col_features_df.corr(numeric_only=True),\n",
    "            annot=True,\n",
    "            cmap='coolwarm',\n",
    "            vmax=1,\n",
    "            vmin=-1\n",
    ");"
   ],
   "id": "81e9e6a93ca27bc8",
   "outputs": [],
   "execution_count": null
  },
  {
   "metadata": {},
   "cell_type": "code",
   "source": [
    "sns.pairplot(num_col_features_df,size=4)\n",
    "plt.show()"
   ],
   "id": "41d31c6c6fd49ddf",
   "outputs": [],
   "execution_count": null
  },
  {
   "metadata": {},
   "cell_type": "code",
   "source": [
    "for col1 in cat_col_df.columns.values:\n",
    "    for col2 in cat_col_df.columns.values:\n",
    "        if col1 != col2:\n",
    "            print(pd.crosstab(cat_col_df[col1],cat_col_df[col2],normalize='index',margins=True),'\\n')"
   ],
   "id": "a46f0caae6fe2489",
   "outputs": [],
   "execution_count": null
  },
  {
   "metadata": {},
   "cell_type": "code",
   "source": [
    "for col1 in cat_col_df.columns.values:\n",
    "    for col2 in cat_col_df.columns.values:\n",
    "        if col1 != col2:\n",
    "            plt.figure(figsize=(10,6))\n",
    "            pd.crosstab(cat_col_df[col1],cat_col_df[col2],normalize='index',margins=True).plot.bar()\n",
    "            plt.show()"
   ],
   "id": "8e4bb0519c0649d2",
   "outputs": [],
   "execution_count": null
  },
  {
   "metadata": {},
   "cell_type": "code",
   "source": [
    "for cat_col in cat_col_df.columns.values:\n",
    "    for num_col in num_col_df.columns.values:\n",
    "        if num_col!='charges':\n",
    "            plt.figure(figsize=(10,6))\n",
    "            medical_costs.groupby(cat_col)[num_col].mean().plot.bar()\n",
    "            plt.ylabel(num_col)\n",
    "            plt.show()"
   ],
   "id": "30cfe937f17530c7",
   "outputs": [],
   "execution_count": null
  },
  {
   "metadata": {},
   "cell_type": "markdown",
   "source": "## Between feature and target bivariate EDA",
   "id": "727bd66de1cedb97"
  },
  {
   "metadata": {},
   "cell_type": "code",
   "source": [
    "for col in medical_costs.drop(columns=['charges'],axis=1).columns.values:\n",
    "    if medical_costs[col].dtypes=='object':\n",
    "        plt.subplots(figsize=(12,6))\n",
    "        medical_costs.groupby(col)['charges'].median().plot.bar()\n",
    "        plt.axhline(y=medical_costs.charges.median(), color='red', linestyle='--')\n",
    "        plt.ylabel('charges')\n",
    "        plt.show()\n",
    "    else:\n",
    "        sns.lmplot(data=medical_costs,x=col,y='charges',fit_reg=True,height=6,aspect=1.5)\n",
    "        plt.show()"
   ],
   "id": "cd5666b19dd72793",
   "outputs": [],
   "execution_count": null
  },
  {
   "metadata": {},
   "cell_type": "markdown",
   "source": "## Feature engineering for model building",
   "id": "7ab20a76a0e9f0bd"
  },
  {
   "metadata": {},
   "cell_type": "code",
   "source": [
    "children=pd.get_dummies(medical_costs.children,prefix='children',drop_first=True).astype('int64')\n",
    "region=pd.get_dummies(medical_costs.region,prefix='region',drop_first=True).astype('int64')\n",
    "sex=pd.get_dummies(medical_costs.sex,prefix='sex',drop_first=True).astype('int64')\n",
    "smoker=pd.get_dummies(medical_costs.smoker,prefix='smoker',drop_first=True).astype('int64')\n",
    "cat_dummy_df=pd.concat([sex,smoker,region,children],join='inner',axis=1)"
   ],
   "id": "26b49e62ebfd74de",
   "outputs": [],
   "execution_count": null
  },
  {
   "metadata": {},
   "cell_type": "code",
   "source": "num_features=medical_costs.select_dtypes('number').drop(columns=['charges'],axis=1)",
   "id": "69ac6d3973357a06",
   "outputs": [],
   "execution_count": null
  },
  {
   "metadata": {},
   "cell_type": "code",
   "source": [
    "X=pd.concat([num_features,cat_dummy_df],axis=1,join='inner')\n",
    "y=medical_costs.charges"
   ],
   "id": "b7ee04763d0738c2",
   "outputs": [],
   "execution_count": null
  },
  {
   "metadata": {},
   "cell_type": "markdown",
   "source": "## Preprocessing",
   "id": "d7670c7333841100"
  },
  {
   "metadata": {},
   "cell_type": "code",
   "source": "X_train,X_test,y_train,y_test=train_test_split(X,y,test_size=0.2,shuffle=True,random_state=42)",
   "id": "7f6ba9bb93ef9bf0",
   "outputs": [],
   "execution_count": null
  },
  {
   "metadata": {},
   "cell_type": "code",
   "source": [
    "scaler=MinMaxScaler()\n",
    "scaler.fit(X_train)"
   ],
   "id": "5160b37e4ab02f23",
   "outputs": [],
   "execution_count": null
  },
  {
   "metadata": {},
   "cell_type": "code",
   "source": [
    "X_train_scaled=scaler.transform(X_train)\n",
    "X_test_scaled=scaler.transform(X_test)"
   ],
   "id": "6eb9154da73c0217",
   "outputs": [],
   "execution_count": null
  },
  {
   "metadata": {},
   "cell_type": "markdown",
   "source": "## Model building",
   "id": "fa980e6d73380c6c"
  },
  {
   "metadata": {},
   "cell_type": "markdown",
   "source": "### Finding the best random state",
   "id": "46cf5f5248871731"
  },
  {
   "metadata": {},
   "cell_type": "code",
   "source": [
    "mae_diff={}\n",
    "for rs in range(1,1000):\n",
    "    rf=GradientBoostingRegressor(random_state=rs)\n",
    "    cv=KFold(n_splits=10,shuffle=True,random_state=rs)\n",
    "    cv_mae=cross_val_score(\n",
    "        estimator=rf,\n",
    "        X=X_train_scaled,\n",
    "        y=y_train,\n",
    "        cv=cv,\n",
    "        scoring='neg_mean_absolute_error',\n",
    "        n_jobs=-1\n",
    "    ).mean()*-1\n",
    "    # print(f'cv MAE: {cv_mae}')\n",
    "    rf.fit(X_train_scaled,y_train)\n",
    "    pred=rf.predict(X_test_scaled)\n",
    "    test_mae=mean_absolute_error(y_true=y_test,y_pred=pred)\n",
    "    # print(f'Test MAE: {test_mae}')\n",
    "    mae_diff[rs]=abs(test_mae-cv_mae)\n",
    "best_random_state=min(mae_diff,key=mae_diff.get)\n",
    "print(f'Best random state = {best_random_state}')\n",
    "print(f'Lowest MAE = {mae_diff[best_random_state]}')"
   ],
   "id": "6a4bd12f41af4531",
   "outputs": [],
   "execution_count": null
  },
  {
   "metadata": {},
   "cell_type": "markdown",
   "source": "## Selecting the best ML algorithm",
   "id": "a44c3d79afee5a11"
  },
  {
   "metadata": {},
   "cell_type": "code",
   "source": [
    "def get_model_scores(model):\n",
    "    cv=KFold(n_splits=10,shuffle=True,random_state=best_random_state)\n",
    "    cv_mae=cross_val_score(\n",
    "        estimator=model,\n",
    "        X=X_train_scaled,\n",
    "        y=y_train,\n",
    "        cv=cv,\n",
    "        scoring='neg_mean_absolute_error',\n",
    "        n_jobs=-1\n",
    "    ).mean()*-1\n",
    "    model.fit(X_train_scaled,y_train)\n",
    "    print(f'CV MAE = {cv_mae}')\n",
    "    print(f'Test MAE = {mean_absolute_error(y_true=y_test,y_pred=model.predict(X_test_scaled))}')\n",
    "    print(f'MAE difference between cv and test = {abs(mean_absolute_error(y_true=y_test,y_pred=model.predict(X_test_scaled))-cv_mae)}')\n",
    "    return abs(mean_absolute_error(y_true=y_test,y_pred=model.predict(X_test_scaled))-cv_mae)"
   ],
   "id": "da76ab9155e95f4b",
   "outputs": [],
   "execution_count": null
  },
  {
   "metadata": {},
   "cell_type": "code",
   "source": "ml_algo_dict={}",
   "id": "beaf715ee2c8bcc7",
   "outputs": [],
   "execution_count": null
  },
  {
   "metadata": {},
   "cell_type": "code",
   "source": [
    "# Linear regression\n",
    "lr=LinearRegression()\n",
    "ml_algo_dict[lr]=get_model_scores(lr)"
   ],
   "id": "a2f3c4788cbcc328",
   "outputs": [],
   "execution_count": null
  },
  {
   "metadata": {},
   "cell_type": "code",
   "source": [
    "# Elastic net\n",
    "en=ElasticNet(random_state=best_random_state)\n",
    "ml_algo_dict[en]=get_model_scores(en)"
   ],
   "id": "274af9f45e814f77",
   "outputs": [],
   "execution_count": null
  },
  {
   "metadata": {},
   "cell_type": "code",
   "source": [
    "# Ridge\n",
    "ridge=Ridge(random_state=best_random_state)\n",
    "ml_algo_dict[ridge]=get_model_scores(ridge)"
   ],
   "id": "2da59baed92c3625",
   "outputs": [],
   "execution_count": null
  },
  {
   "metadata": {},
   "cell_type": "code",
   "source": [
    "# Lasso\n",
    "lasso=Lasso(random_state=best_random_state)\n",
    "ml_algo_dict[lasso]=get_model_scores(lasso)"
   ],
   "id": "433205dbd0f62338",
   "outputs": [],
   "execution_count": null
  },
  {
   "metadata": {},
   "cell_type": "code",
   "source": [
    "# Decission tree\n",
    "dt=DecisionTreeRegressor(random_state=best_random_state)\n",
    "ml_algo_dict[dt]=get_model_scores(dt)"
   ],
   "id": "99dd871c413b9755",
   "outputs": [],
   "execution_count": null
  },
  {
   "metadata": {},
   "cell_type": "code",
   "source": [
    "# Random forest\n",
    "rf=RandomForestRegressor(random_state=best_random_state)\n",
    "ml_algo_dict[rf]=get_model_scores(rf)"
   ],
   "id": "2e7b92c602d5aa00",
   "outputs": [],
   "execution_count": null
  },
  {
   "metadata": {},
   "cell_type": "code",
   "source": [
    "# Support vector regression\n",
    "svr=SVR()\n",
    "ml_algo_dict[svr]=get_model_scores(svr)"
   ],
   "id": "26763ee077a0f7f7",
   "outputs": [],
   "execution_count": null
  },
  {
   "metadata": {},
   "cell_type": "code",
   "source": [
    "# Bagging regressor\n",
    "bgr=BaggingRegressor(random_state=best_random_state)\n",
    "ml_algo_dict[bgr]=get_model_scores(bgr)"
   ],
   "id": "c891a23950b7a97a",
   "outputs": [],
   "execution_count": null
  },
  {
   "metadata": {},
   "cell_type": "code",
   "source": [
    "# Gradient boosting\n",
    "gbr=GradientBoostingRegressor(random_state=best_random_state)\n",
    "ml_algo_dict[gbr]=get_model_scores(gbr)"
   ],
   "id": "35db83b09a37c6c7",
   "outputs": [],
   "execution_count": null
  },
  {
   "metadata": {},
   "cell_type": "code",
   "source": [
    "selected_model=min(ml_algo_dict,key=ml_algo_dict.get)\n",
    "y_pred=selected_model.predict(X_test_scaled)\n",
    "mean_absolute_error(y_true=y_test,y_pred=y_pred)"
   ],
   "id": "7c30935d3059dc57",
   "outputs": [],
   "execution_count": null
  },
  {
   "metadata": {},
   "cell_type": "markdown",
   "source": "## Hyperparameter tuning",
   "id": "67f77114ce447c15"
  },
  {
   "metadata": {},
   "cell_type": "code",
   "source": [
    "param_grid={\n",
    "    'alpha': np.linspace(0,1000,10001),\n",
    "    'fit_intercept': [True,False],\n",
    "    'solver': ['auto', 'svd', 'cholesky', 'lsqr', 'sparse_cg', 'sag', 'saga', 'lbfgs'],\n",
    "}\n",
    "cv=KFold(n_splits=10,shuffle=True,random_state=best_random_state)\n",
    "model=GridSearchCV(\n",
    "    estimator=selected_model,\n",
    "    param_grid=param_grid,\n",
    "    cv=cv,\n",
    "    scoring='neg_mean_absolute_error',\n",
    "    n_jobs=-1\n",
    ")\n",
    "model.fit(X_train_scaled,y_train)\n",
    "model.best_score_"
   ],
   "id": "ff247b7f788f25a2",
   "outputs": [],
   "execution_count": null
  },
  {
   "metadata": {},
   "cell_type": "markdown",
   "source": "### the earlier model performed better than the best model found through hyperparameter tuning. So the earlier selected model is our final model",
   "id": "894be95b35614f69"
  },
  {
   "metadata": {},
   "cell_type": "markdown",
   "source": "### Feature importance",
   "id": "ab909d11554fa8f"
  },
  {
   "metadata": {},
   "cell_type": "code",
   "source": [
    "feature_importance=pd.Series(data=selected_model.coef_,index=X.columns.values)\n",
    "plt.figure(figsize=(10,6))\n",
    "feature_importance.sort_values().plot.barh();"
   ],
   "id": "e85070fc8bc5a2ca",
   "outputs": [],
   "execution_count": null
  },
  {
   "metadata": {},
   "cell_type": "code",
   "source": "feature_importance",
   "id": "ac94c7c366be5e0d",
   "outputs": [],
   "execution_count": null
  },
  {
   "metadata": {},
   "cell_type": "markdown",
   "source": "### Partial dependence plots",
   "id": "69472ea47e72bec7"
  },
  {
   "metadata": {},
   "cell_type": "code",
   "source": [
    "pred_df=pd.DataFrame(columns=X.columns.values,\n",
    "                     data=scaler.transform(X))\n",
    "for col in pred_df.columns.values:\n",
    "    fig,ax=plt.subplots(figsize=(10, 6))\n",
    "    plt.figure(figsize=(10,6))\n",
    "    pdp = PartialDependenceDisplay.from_estimator(selected_model,\n",
    "                                                  pred_df,\n",
    "                                                  [col],\n",
    "                                                  kind='average',\n",
    "                                                  ax=ax\n",
    "                                                  );"
   ],
   "id": "4b7935d0cb6b7557",
   "outputs": [],
   "execution_count": null
  },
  {
   "metadata": {},
   "cell_type": "markdown",
   "source": "## Insights",
   "id": "99628cac6770edfc"
  },
  {
   "metadata": {},
   "cell_type": "markdown",
   "source": [
    "#### From the feature importance plot above it is evident that smoking, bmi and age are the top three factors with smoking being the most important in determining the medical insurance claim cost to the company.\n",
    "\n",
    "Based on the results of the above analyses, we make the below observations.\n",
    "\n",
    "* Those who smoke are very highly likely to make a high claim for medical related cost as compared to those who don't smoke in general. As an estimate those who smoke are likely to claim $23464 more than those who don't smoke on average.\n",
    "* Similarly, people with higher bmi are more likely to make higher claim. To be precise someone who is one unit higher in bmi is likely to claim $12058 more than someone who is one unit below in bmi than him/her.\n",
    "* Likewise, older people are more likely to make higher claim than younger people which is normal as older people are more susceptible to fall sick thus incurring higher medical cost. Precisely, with each year in age people are likely to claim $11733 more compared to someone who is a year younger on average.\n",
    "* Furthermore, people with children are likely to make higher claim compared to people with no children.\n",
    "* Finally, people from northeast region are likely to make slightly higher claim compared to people from other region in general. However, this factor may not be significantly important to consider for making any business decision.\n",
    "\n",
    "Hence, one recommendation that could be made out of these findings is that the insurance company may want to charge higher health insurance premium to those who are smoker, older, has bmi on the higher side, has children and live in the northeast region as people with this profile incur risk of high insurance loss as compared to others."
   ],
   "id": "7ac0e4b5089704a1"
  }
 ],
 "metadata": {
  "kernelspec": {
   "display_name": "Python 3",
   "language": "python",
   "name": "python3"
  },
  "language_info": {
   "codemirror_mode": {
    "name": "ipython",
    "version": 2
   },
   "file_extension": ".py",
   "mimetype": "text/x-python",
   "name": "python",
   "nbconvert_exporter": "python",
   "pygments_lexer": "ipython2",
   "version": "2.7.6"
  }
 },
 "nbformat": 4,
 "nbformat_minor": 5
}
