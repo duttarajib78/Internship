{
 "cells": [
  {
   "cell_type": "markdown",
   "metadata": {},
   "source": [
    "### ********************************************************************************************************************************************************************************************************************************"
   ]
  },
  {
   "cell_type": "markdown",
   "metadata": {},
   "source": [
    "## Regular Expression Assignment Solutions\n",
    "## Rajib Dutta \n",
    "## duttarajib78@gmail.com \n",
    "## Batch DS2402"
   ]
  },
  {
   "cell_type": "markdown",
   "metadata": {},
   "source": [
    "### ********************************************************************************************************************************************************************************************************************************"
   ]
  },
  {
   "cell_type": "markdown",
   "metadata": {},
   "source": [
    "#### Question 1- Write a Python program to replace all occurrences of a space, comma, or dot with a colon.\n",
    "#### Sample Text- 'Python Exercises, PHP exercises.'\n",
    "#### Expected Output: Python:Exercises::PHP:exercises:"
   ]
  },
  {
   "cell_type": "code",
   "execution_count": 1,
   "metadata": {},
   "outputs": [],
   "source": [
    "import re\n",
    "import pandas as pd\n",
    "import numpy as np"
   ]
  },
  {
   "cell_type": "code",
   "execution_count": 2,
   "metadata": {},
   "outputs": [
    {
     "data": {
      "text/plain": [
       "'Python:Exercises::PHP:exercises:'"
      ]
     },
     "execution_count": 2,
     "metadata": {},
     "output_type": "execute_result"
    }
   ],
   "source": [
    "def replaceSpaceCommaDot(text):\n",
    "    pattern=r'[\\s,\\.]'\n",
    "    p=re.compile(pattern=pattern)\n",
    "    return p.sub(string=text, repl=':')\n",
    "\n",
    "text=\"Python Exercises, PHP exercises.\"\n",
    "replaceSpaceCommaDot(text)"
   ]
  },
  {
   "cell_type": "markdown",
   "metadata": {},
   "source": [
    "#### Question 2-  Create a dataframe using the dictionary below and remove everything (commas (,), !, XXXX, ;, etc.) from the columns except words.\n",
    "\n",
    "#### Dictionary- {'SUMMARY' : ['hello, world!', 'XXXXX test', '123four, five:; six...']}\n",
    "\n",
    "#### Expected output-\n",
    "\n",
    "#### 0      hello world\n",
    "\n",
    "#### 1             test\n",
    "\n",
    "#### 2    four five six"
   ]
  },
  {
   "cell_type": "code",
   "execution_count": 3,
   "metadata": {},
   "outputs": [
    {
     "data": {
      "text/plain": [
       "0      hello world\n",
       "1             test\n",
       "2    four five six\n",
       "3        bubble xb\n",
       "Name: SUMMARY, dtype: object"
      ]
     },
     "execution_count": 3,
     "metadata": {},
     "output_type": "execute_result"
    }
   ],
   "source": [
    "def keepOnlyWords(text):\n",
    "    pattern=r'([^a-zA-Z\\s]+)|\\b([Xx]{2}\\w*)\\b'\n",
    "    p=re.compile(pattern=pattern)\n",
    "    return p.sub(string=text, repl='')\n",
    "\n",
    "theDict={'SUMMARY' : ['hello, world!', 'XXXXX test', '123four, five:; six...', ', bubble,, xb']}\n",
    "df=pd.DataFrame(data=theDict)\n",
    "df.SUMMARY=df.SUMMARY.apply(keepOnlyWords)\n",
    "df.SUMMARY"
   ]
  },
  {
   "cell_type": "markdown",
   "metadata": {},
   "source": [
    "#### Question 3- Create a function in python to find all words that are at least 4 characters long in a string. The use of the re.compile() method is mandatory."
   ]
  },
  {
   "cell_type": "code",
   "execution_count": 4,
   "metadata": {},
   "outputs": [
    {
     "data": {
      "text/plain": [
       "['woman', 'loves', '123_so00', 'muuuuuuuuuuuuuchhhh']"
      ]
     },
     "execution_count": 4,
     "metadata": {},
     "output_type": "execute_result"
    }
   ],
   "source": [
    "def findWordsOfLengthFourOrMore(text):\n",
    "    pattern=r'\\b\\w{4,}\\b'\n",
    "    p=re.compile(pattern=pattern)\n",
    "    return p.findall(string=text)\n",
    "\n",
    "findWordsOfLengthFourOrMore('The woman loves her son 123_so00 muuuuuuuuuuuuuchhhh')"
   ]
  },
  {
   "cell_type": "markdown",
   "metadata": {},
   "source": [
    "#### Question 4- Create a function in python to find all three, four, and five character words in a string. The use of the re.compile() method is mandatory."
   ]
  },
  {
   "cell_type": "code",
   "execution_count": 5,
   "metadata": {},
   "outputs": [
    {
     "data": {
      "text/plain": [
       "['The', 'woman', 'loves', 'her', 'son']"
      ]
     },
     "execution_count": 5,
     "metadata": {},
     "output_type": "execute_result"
    }
   ],
   "source": [
    "def findWordsOfLengthThreeToFive(text):\n",
    "    pattern=re.compile(pattern=r'\\b(\\w{3,5})\\b')\n",
    "    return pattern.findall(text)\n",
    "text='The woman loves her son 123_so0o muuchhhh'\n",
    "findWordsOfLengthThreeToFive(text)"
   ]
  },
  {
   "cell_type": "markdown",
   "metadata": {},
   "source": [
    "#### Question 5- Create a function in Python to remove the parenthesis in a list of strings. The use of the re.compile() method is mandatory.\n",
    "\n",
    "#### Sample Text: [\"example (.com)\", \"hr@fliprobo (.com)\", \"github (.com)\", \"Hello (Data Science World)\", \"Data (Scientist)\"]\n",
    "\n",
    "#### Expected Output:\n",
    "\n",
    "#### example.com\n",
    "\n",
    "#### hr@fliprobo.com\n",
    "\n",
    "#### github.com\n",
    "\n",
    "#### Hello Data Science World\n",
    "\n",
    "#### Data Scientist"
   ]
  },
  {
   "cell_type": "code",
   "execution_count": 6,
   "metadata": {},
   "outputs": [
    {
     "data": {
      "text/plain": [
       "['example.com',\n",
       " 'hr@fliprobo.com',\n",
       " 'github.com',\n",
       " 'Hello Data Science World',\n",
       " 'Data Scientist']"
      ]
     },
     "execution_count": 6,
     "metadata": {},
     "output_type": "execute_result"
    }
   ],
   "source": [
    "def removeParenthesis(texts):\n",
    "    pattern1=re.compile(pattern=r'[\\(\\)]')\n",
    "    intrmediate_texts=[pattern1.sub(string=word, repl='') for word in texts]\n",
    "    pattern2=re.compile(pattern=r'\\s+(\\W+\\w+)')\n",
    "    clean_texts=[]\n",
    "    for text in intrmediate_texts:\n",
    "        clean_texts.append(pattern2.sub(string=text, repl=r'\\1'))\n",
    "    return clean_texts\n",
    "        \n",
    "texts=[\"example (.com)\", \"hr@fliprobo (.com)\", \"github (.com)\", \"Hello (Data Science World)\", \"Data (Scientist)\"]\n",
    "removeParenthesis(texts)"
   ]
  },
  {
   "cell_type": "markdown",
   "metadata": {},
   "source": [
    "#### Question 6- Write a python program to remove the parenthesis area from the text stored in the text file using Regular Expression.\n",
    "\n",
    "#### Sample Text: [\"example (.com)\", \"hr@fliprobo (.com)\", \"github (.com)\", \"Hello (Data Science World)\", \"Data (Scientist)\"]\n",
    "\n",
    "#### Expected Output: [\"example\", \"hr@fliprobo\", \"github\", \"Hello\", \"Data\"]\n",
    "\n",
    "#### Note- Store given sample text in the text file and then to remove the parenthesis area from the text."
   ]
  },
  {
   "cell_type": "code",
   "execution_count": 7,
   "metadata": {},
   "outputs": [
    {
     "data": {
      "text/plain": [
       "['example', 'hr@fliprobo', 'github', 'Hello', 'Data']"
      ]
     },
     "execution_count": 7,
     "metadata": {},
     "output_type": "execute_result"
    }
   ],
   "source": [
    "def removeParenthesisArea(text):\n",
    "    pattern=r'\\(.*\\)'\n",
    "    p=re.compile(pattern=pattern)\n",
    "    return p.sub(string=text, repl='').strip()\n",
    "\n",
    "with open('./sample_text.txt', 'w') as f:\n",
    "    f.writelines([\"example (.com)\\n\", \"hr@fliprobo (.com)\\n\", \"github (.com)\\n\", \"Hello (Data Science World)\\n\", \"Data (Scientist)\"])\n",
    "\n",
    "with open('./sample_text.txt', 'r') as f:\n",
    "    sample_text=f.readlines()\n",
    "\n",
    "[removeParenthesisArea(line) for line in sample_text]"
   ]
  },
  {
   "cell_type": "markdown",
   "metadata": {},
   "source": [
    "#### Question 7- Write a regular expression in Python to split a string into uppercase letters.\n",
    "\n",
    "#### Sample text: “ImportanceOfRegularExpressionsInPython”\n",
    "\n",
    "#### Expected Output: [‘Importance’, ‘Of’, ‘Regular’, ‘Expression’, ‘In’, ‘Python’]"
   ]
  },
  {
   "cell_type": "code",
   "execution_count": 8,
   "metadata": {},
   "outputs": [
    {
     "name": "stdout",
     "output_type": "stream",
     "text": [
      "['an', 'Importance', 'OOOf', 'Regular', 'Expressions', 'In', 'Python', 'Is', 'H']\n",
      "['IMportance', 'Of', 'Regular', 'Expressions', 'INn', 'Python', 'L']\n"
     ]
    }
   ],
   "source": [
    "def splitByCapLetter(text):\n",
    "    pattern=r'[A-Z]+'\n",
    "    p=re.compile(pattern=pattern)\n",
    "    init_letters=[text[it.start():it.end()] for it in p.finditer(text)]\n",
    "    splitted_words=[word for word in p.split(text)]\n",
    "    final_texts=[]\n",
    "    for i, word in enumerate(init_letters):\n",
    "        final_texts.append(word+splitted_words[i+1])\n",
    "    if splitted_words[0]!='':\n",
    "        final_texts.insert(0, splitted_words[0])\n",
    "    return final_texts\n",
    "\n",
    "text='anImportanceOOOfRegularExpressionsInPythonIsH'\n",
    "print(splitByCapLetter(text))\n",
    "text='IMportanceOfRegularExpressionsINnPythonL'\n",
    "print(splitByCapLetter(text))"
   ]
  },
  {
   "cell_type": "markdown",
   "metadata": {},
   "source": [
    "#### Question 8- Create a function in python to insert spaces between words starting with numbers.\n",
    "\n",
    "#### Sample Text: “RegularExpression1IsAn2ImportantTopic3InPython\"\n",
    "\n",
    "#### Expected Output: RegularExpression 1IsAn 2ImportantTopic 3InPython"
   ]
  },
  {
   "cell_type": "code",
   "execution_count": 9,
   "metadata": {},
   "outputs": [
    {
     "name": "stdout",
     "output_type": "stream",
     "text": [
      "0000RegularExpression 100IsAn 2ImportantTopic 30InPython 4000000\n",
      "RegularExpression 1IsAn 2ImportantTopic 3InPython\n"
     ]
    }
   ],
   "source": [
    "def putSpaceAfterNumber(text):\n",
    "    pattern=re.compile(pattern=r'(\\d+\\D*)')\n",
    "    return pattern.sub(string=text, repl=r' \\1').strip()\n",
    "\n",
    "text='0000RegularExpression100IsAn2ImportantTopic30InPython4000000'\n",
    "print(putSpaceAfterNumber(text))\n",
    "text='RegularExpression1IsAn2ImportantTopic3InPython'\n",
    "print(putSpaceAfterNumber(text))"
   ]
  },
  {
   "cell_type": "markdown",
   "metadata": {},
   "source": [
    "#### Question 9- Create a function in python to insert spaces between words starting with capital letters or with numbers.\n",
    "\n",
    "#### Sample Text: “RegularExpression1IsAn2ImportantTopic3InPython\"\n",
    "\n",
    "#### Expected Output:  RegularExpression 1 IsAn 2 ImportantTopic 3 InPython"
   ]
  },
  {
   "cell_type": "code",
   "execution_count": 10,
   "metadata": {},
   "outputs": [
    {
     "name": "stdout",
     "output_type": "stream",
     "text": [
      "0000 Regular Expression 100 Is An 2 Important Topic 30 IIIn Python 4000000\n",
      "Regular Expression 1 Is An 2 Important Topic 3 In Python\n"
     ]
    }
   ],
   "source": [
    "def putSpaceAfterCapLetterOrNumber(text):\n",
    "    pattern=re.compile(pattern=r'(\\d+|[A-Z]+)')\n",
    "    return pattern.sub(string=text, repl=r' \\1').strip()\n",
    "\n",
    "text='0000RegularExpression100IsAn2ImportantTopic30IIInPython4000000'\n",
    "print(putSpaceAfterCapLetterOrNumber(text))\n",
    "text='RegularExpression1IsAn2ImportantTopic3InPython'\n",
    "print(putSpaceAfterCapLetterOrNumber(text))"
   ]
  },
  {
   "cell_type": "markdown",
   "metadata": {},
   "source": [
    "#### Question 10- Use the github link below to read the data and create a dataframe. After creating the dataframe extract the first 6 letters of each country and store in the dataframe under a new column called first_five_letters.\n",
    "\n",
    "#### Github Link-  https://raw.githubusercontent.com/dsrscientist/DSData/master/happiness_score_dataset.csv"
   ]
  },
  {
   "cell_type": "code",
   "execution_count": 11,
   "metadata": {},
   "outputs": [
    {
     "data": {
      "text/html": [
       "<div>\n",
       "<style scoped>\n",
       "    .dataframe tbody tr th:only-of-type {\n",
       "        vertical-align: middle;\n",
       "    }\n",
       "\n",
       "    .dataframe tbody tr th {\n",
       "        vertical-align: top;\n",
       "    }\n",
       "\n",
       "    .dataframe thead th {\n",
       "        text-align: right;\n",
       "    }\n",
       "</style>\n",
       "<table border=\"1\" class=\"dataframe\">\n",
       "  <thead>\n",
       "    <tr style=\"text-align: right;\">\n",
       "      <th></th>\n",
       "      <th>Country</th>\n",
       "      <th>Region</th>\n",
       "      <th>Happiness Rank</th>\n",
       "      <th>Happiness Score</th>\n",
       "      <th>Standard Error</th>\n",
       "      <th>Economy (GDP per Capita)</th>\n",
       "      <th>Family</th>\n",
       "      <th>Health (Life Expectancy)</th>\n",
       "      <th>Freedom</th>\n",
       "      <th>Trust (Government Corruption)</th>\n",
       "      <th>Generosity</th>\n",
       "      <th>Dystopia Residual</th>\n",
       "      <th>first_five_letters</th>\n",
       "    </tr>\n",
       "  </thead>\n",
       "  <tbody>\n",
       "    <tr>\n",
       "      <th>0</th>\n",
       "      <td>Switzerland</td>\n",
       "      <td>Western Europe</td>\n",
       "      <td>1</td>\n",
       "      <td>7.587</td>\n",
       "      <td>0.03411</td>\n",
       "      <td>1.39651</td>\n",
       "      <td>1.34951</td>\n",
       "      <td>0.94143</td>\n",
       "      <td>0.66557</td>\n",
       "      <td>0.41978</td>\n",
       "      <td>0.29678</td>\n",
       "      <td>2.51738</td>\n",
       "      <td>Switze</td>\n",
       "    </tr>\n",
       "    <tr>\n",
       "      <th>1</th>\n",
       "      <td>Iceland</td>\n",
       "      <td>Western Europe</td>\n",
       "      <td>2</td>\n",
       "      <td>7.561</td>\n",
       "      <td>0.04884</td>\n",
       "      <td>1.30232</td>\n",
       "      <td>1.40223</td>\n",
       "      <td>0.94784</td>\n",
       "      <td>0.62877</td>\n",
       "      <td>0.14145</td>\n",
       "      <td>0.43630</td>\n",
       "      <td>2.70201</td>\n",
       "      <td>Icelan</td>\n",
       "    </tr>\n",
       "    <tr>\n",
       "      <th>2</th>\n",
       "      <td>Denmark</td>\n",
       "      <td>Western Europe</td>\n",
       "      <td>3</td>\n",
       "      <td>7.527</td>\n",
       "      <td>0.03328</td>\n",
       "      <td>1.32548</td>\n",
       "      <td>1.36058</td>\n",
       "      <td>0.87464</td>\n",
       "      <td>0.64938</td>\n",
       "      <td>0.48357</td>\n",
       "      <td>0.34139</td>\n",
       "      <td>2.49204</td>\n",
       "      <td>Denmar</td>\n",
       "    </tr>\n",
       "    <tr>\n",
       "      <th>3</th>\n",
       "      <td>Norway</td>\n",
       "      <td>Western Europe</td>\n",
       "      <td>4</td>\n",
       "      <td>7.522</td>\n",
       "      <td>0.03880</td>\n",
       "      <td>1.45900</td>\n",
       "      <td>1.33095</td>\n",
       "      <td>0.88521</td>\n",
       "      <td>0.66973</td>\n",
       "      <td>0.36503</td>\n",
       "      <td>0.34699</td>\n",
       "      <td>2.46531</td>\n",
       "      <td>Norway</td>\n",
       "    </tr>\n",
       "    <tr>\n",
       "      <th>4</th>\n",
       "      <td>Canada</td>\n",
       "      <td>North America</td>\n",
       "      <td>5</td>\n",
       "      <td>7.427</td>\n",
       "      <td>0.03553</td>\n",
       "      <td>1.32629</td>\n",
       "      <td>1.32261</td>\n",
       "      <td>0.90563</td>\n",
       "      <td>0.63297</td>\n",
       "      <td>0.32957</td>\n",
       "      <td>0.45811</td>\n",
       "      <td>2.45176</td>\n",
       "      <td>Canada</td>\n",
       "    </tr>\n",
       "  </tbody>\n",
       "</table>\n",
       "</div>"
      ],
      "text/plain": [
       "       Country          Region  Happiness Rank  Happiness Score  \\\n",
       "0  Switzerland  Western Europe               1            7.587   \n",
       "1      Iceland  Western Europe               2            7.561   \n",
       "2      Denmark  Western Europe               3            7.527   \n",
       "3       Norway  Western Europe               4            7.522   \n",
       "4       Canada   North America               5            7.427   \n",
       "\n",
       "   Standard Error  Economy (GDP per Capita)   Family  \\\n",
       "0         0.03411                   1.39651  1.34951   \n",
       "1         0.04884                   1.30232  1.40223   \n",
       "2         0.03328                   1.32548  1.36058   \n",
       "3         0.03880                   1.45900  1.33095   \n",
       "4         0.03553                   1.32629  1.32261   \n",
       "\n",
       "   Health (Life Expectancy)  Freedom  Trust (Government Corruption)  \\\n",
       "0                   0.94143  0.66557                        0.41978   \n",
       "1                   0.94784  0.62877                        0.14145   \n",
       "2                   0.87464  0.64938                        0.48357   \n",
       "3                   0.88521  0.66973                        0.36503   \n",
       "4                   0.90563  0.63297                        0.32957   \n",
       "\n",
       "   Generosity  Dystopia Residual first_five_letters  \n",
       "0     0.29678            2.51738             Switze  \n",
       "1     0.43630            2.70201             Icelan  \n",
       "2     0.34139            2.49204             Denmar  \n",
       "3     0.34699            2.46531             Norway  \n",
       "4     0.45811            2.45176             Canada  "
      ]
     },
     "execution_count": 11,
     "metadata": {},
     "output_type": "execute_result"
    }
   ],
   "source": [
    "happiness=pd.read_csv(\"https://raw.githubusercontent.com/dsrscientist/DSData/master/happiness_score_dataset.csv\")\n",
    "def extractFirstSix(text):\n",
    "    pattern=r'^[A-Za-z].{5,5}'\n",
    "    p=re.compile(pattern=pattern)\n",
    "    if len(text) >= 6:\n",
    "        return p.match(text).group()\n",
    "    else:\n",
    "        return text\n",
    "\n",
    "happiness['first_five_letters']=happiness.Country.apply(extractFirstSix).values\n",
    "happiness.head()"
   ]
  },
  {
   "cell_type": "markdown",
   "metadata": {},
   "source": [
    "#### Question 11- Write a Python program to match a string that contains only upper and lowercase letters, numbers, and underscores."
   ]
  },
  {
   "cell_type": "code",
   "execution_count": 12,
   "metadata": {},
   "outputs": [
    {
     "data": {
      "text/plain": [
       "['A', 'boy_', 'got', 'this', 'on', 'his', '10_Notebooks', 'costing', '20']"
      ]
     },
     "execution_count": 12,
     "metadata": {},
     "output_type": "execute_result"
    }
   ],
   "source": [
    "def matchLettersNumNUds(text):\n",
    "    pattern=r'\\w+'\n",
    "    p=re.compile(pattern=pattern)\n",
    "    return p.findall(text)\n",
    "text='A boy_ got this %$+ on his 10_Notebooks costing $20'\n",
    "matchLettersNumNUds(text)"
   ]
  },
  {
   "cell_type": "markdown",
   "metadata": {},
   "source": [
    "#### Question 12- Write a Python program where a string will start with a specific number. "
   ]
  },
  {
   "cell_type": "code",
   "execution_count": 13,
   "metadata": {},
   "outputs": [
    {
     "data": {
      "text/plain": [
       "['10_Notebooks costing $20', '10 Pens costing $15']"
      ]
     },
     "execution_count": 13,
     "metadata": {},
     "output_type": "execute_result"
    }
   ],
   "source": [
    "def matchStartingWithSpecificNum(text, start):\n",
    "    pattern=rf'^{start}.*'\n",
    "    p=re.compile(pattern=pattern)\n",
    "    m=p.match(text)\n",
    "    if m is not None:\n",
    "        return m.group()\n",
    "\n",
    "texts=['10_Notebooks costing $20', '20_Notebooks costing $30', '10 Pens costing $15']\n",
    "[matchStartingWithSpecificNum(text, 10) for text in texts if matchStartingWithSpecificNum(text, 10) is not None]"
   ]
  },
  {
   "cell_type": "markdown",
   "metadata": {},
   "source": [
    "#### Question 13- Write a Python program to remove leading zeros from an IP address"
   ]
  },
  {
   "cell_type": "code",
   "execution_count": 14,
   "metadata": {},
   "outputs": [
    {
     "name": "stdout",
     "output_type": "stream",
     "text": [
      "5.8.19.180\n",
      "19.80.19.180\n"
     ]
    }
   ],
   "source": [
    "def removeLeadingZerosFromIP(ip):\n",
    "    pattern=re.compile(pattern=r'\\b[0]+(\\d+)\\b')\n",
    "    return pattern.sub(string=ip,repl=r'\\1')\n",
    "\n",
    "ip='05.08.19.180'\n",
    "print(removeLeadingZerosFromIP(ip))\n",
    "ip='19.80.0019.00000180'\n",
    "print(removeLeadingZerosFromIP(ip))"
   ]
  },
  {
   "cell_type": "markdown",
   "metadata": {},
   "source": [
    "#### Question 14- Write a regular expression in python to match a date string in the form of Month name followed by day number and year stored in a text file.\n",
    "\n",
    "#### Sample text :  ' On August 15th 1947 that India was declared independent from British colonialism, and the reins of control were handed over to the leaders of the Country’.\n",
    "\n",
    "#### Expected Output- August 15th 1947\n",
    "\n",
    "#### Note- Store given sample text in the text file and then extract the date string asked format."
   ]
  },
  {
   "cell_type": "code",
   "execution_count": 15,
   "metadata": {},
   "outputs": [
    {
     "data": {
      "text/plain": [
       "['August 15th 1947']"
      ]
     },
     "execution_count": 15,
     "metadata": {},
     "output_type": "execute_result"
    }
   ],
   "source": [
    "def extractDates(text):\n",
    "    pattern_month=r'\\b(Jan(uary)?|Feb(ruary)?|Mar(ch)?|Apr(il)?|May|Jun(e)?|Jul(y)?|Aug(ust)?|Sep(tember)?|Oct(ober)?|Nov(ember)?|Dec(ember)?)\\b'\n",
    "    pattern_day=r'\\s+(\\d{1,2})(st?|nd?|rd?|th?)'\n",
    "    pattern_year=r'\\s+(\\d{4})'\n",
    "    pattern=f'{pattern_month}{pattern_day}{pattern_year}'\n",
    "    p=re.compile(pattern=pattern)\n",
    "    dates=[]\n",
    "    for iter in p.finditer(text):\n",
    "        dates.append(iter.group())\n",
    "    return dates\n",
    "\n",
    "with open(file='./date_file.txt', mode='w') as f:\n",
    "    f.write('''On August 15th 1947 that India was declared independent \n",
    "                from British colonialism, and the reins of control were \n",
    "                handed over to the leaders of the Country where Augusta was the hero''')\n",
    "    \n",
    "with open(file='./date_file.txt', mode='r') as f:\n",
    "    text=f.read()\n",
    "    \n",
    "extractDates(text)"
   ]
  },
  {
   "cell_type": "markdown",
   "metadata": {},
   "source": [
    "#### Question 15- Write a Python program to search some literals strings in a string.\n",
    "\n",
    "#### Sample text : 'The quick brown fox jumps over the lazy dog.'\n",
    "\n",
    "#### Searched words : 'fox', 'dog', 'horse'"
   ]
  },
  {
   "cell_type": "code",
   "execution_count": 16,
   "metadata": {},
   "outputs": [
    {
     "name": "stdout",
     "output_type": "stream",
     "text": [
      "['fox']\n",
      "['fox', 'dog']\n",
      "['fox', 'dog', 'horse']\n"
     ]
    }
   ],
   "source": [
    "def searchLiteral(text, *literals):\n",
    "    if len(literals) > 0:\n",
    "        matches=[]\n",
    "        for literal in literals:\n",
    "            pattern=r'\\b'+literal+r'\\b'\n",
    "            p=re.compile(pattern=pattern)\n",
    "            matches.append(p.search(text).group())\n",
    "        return matches\n",
    "    else:\n",
    "        return 'No literal provided'\n",
    "    \n",
    "text='''The quick brown fox jumps over the lazy dog. \n",
    "        Then the fox had bitten the dog. \n",
    "        Being attached the dog hopped on a horse. \n",
    "        The horse helped the dog to escape from the fox'''\n",
    "print(searchLiteral(text, 'fox'))\n",
    "print(searchLiteral(text, 'fox', 'dog'))\n",
    "print(searchLiteral(text, 'fox', 'dog', 'horse'))"
   ]
  },
  {
   "cell_type": "markdown",
   "metadata": {},
   "source": [
    "#### Question 16- Write a Python program to search a literals string in a string and also find the location within the original string where the pattern occurs\n",
    "\n",
    "#### Sample text : 'The quick brown fox jumps over the lazy dog.'\n",
    "\n",
    "#### Searched words : 'fox'"
   ]
  },
  {
   "cell_type": "code",
   "execution_count": 17,
   "metadata": {},
   "outputs": [
    {
     "name": "stdout",
     "output_type": "stream",
     "text": [
      "{'fox': [(16, 19), (63, 66), (191, 194)]}\n",
      "{'fox': [(16, 19), (63, 66), (191, 194)], 'dog': [(40, 43), (82, 85), (115, 118), (168, 171)]}\n",
      "{'fox': [(16, 19), (63, 66), (191, 194)], 'dog': [(40, 43), (82, 85), (115, 118), (168, 171)], 'horse': [(131, 136), (151, 156)]}\n"
     ]
    }
   ],
   "source": [
    "def searchLiteral(text, *literals):\n",
    "    if len(literals) > 0:\n",
    "        literal_dict={}\n",
    "        for literal in literals:\n",
    "            pattern=r'\\b'+literal+r'\\b'\n",
    "            p=re.compile(pattern=pattern)\n",
    "            locations=[]\n",
    "            for m in p.finditer(text):\n",
    "                locations.append(m.span())\n",
    "            literal_dict[m.group()]=locations\n",
    "        return literal_dict\n",
    "    else:\n",
    "        return 'No literal provided'\n",
    "    \n",
    "text='''The quick brown fox jumps over the lazy dog. \n",
    "        Then the fox had bitten the dog. \n",
    "        Being attached the dog hopped on a horse. \n",
    "        The horse helped the dog to escape from the fox'''\n",
    "print(searchLiteral(text, 'fox'))\n",
    "print(searchLiteral(text, 'fox', 'dog'))\n",
    "print(searchLiteral(text, 'fox', 'dog', 'horse'))"
   ]
  },
  {
   "cell_type": "markdown",
   "metadata": {},
   "source": [
    "#### Question 17- Write a Python program to find the substrings within a string.\n",
    "\n",
    "#### Sample text : 'Python exercises, PHP exercises, C# exercises'\n",
    "\n",
    "#### Pattern : 'exercises'."
   ]
  },
  {
   "cell_type": "code",
   "execution_count": 18,
   "metadata": {},
   "outputs": [
    {
     "data": {
      "text/plain": [
       "['C#']"
      ]
     },
     "execution_count": 18,
     "metadata": {},
     "output_type": "execute_result"
    }
   ],
   "source": [
    "def getAllSubstrings(text, substring):\n",
    "    pattern=rf'{substring}'\n",
    "    p=re.compile(pattern=pattern)\n",
    "    return p.findall(text)\n",
    "\n",
    "text='Python exercises, PHP exercises, C# exercises'\n",
    "getAllSubstrings(text, 'C#')"
   ]
  },
  {
   "cell_type": "markdown",
   "metadata": {},
   "source": [
    "#### Question 18- Write a Python program to find the occurrence and position of the substrings within a string."
   ]
  },
  {
   "cell_type": "code",
   "execution_count": 19,
   "metadata": {},
   "outputs": [
    {
     "name": "stdout",
     "output_type": "stream",
     "text": [
      "{'exercises': [(7, 16), (22, 31), (36, 45)]}\n",
      "{'C#': [(33, 35)]}\n"
     ]
    }
   ],
   "source": [
    "def getAllSubstringsWithPositions(text, substring):\n",
    "    pattern=rf'{substring}'\n",
    "    p=re.compile(pattern=pattern)\n",
    "    sub_string_pos={substring:[]}\n",
    "    for m in p.finditer(text):\n",
    "        sub_string_pos[substring].append(m.span())\n",
    "    return sub_string_pos\n",
    "\n",
    "text='Python exercises, PHP exercises, C# exercises'\n",
    "print(getAllSubstringsWithPositions(text, 'exercises'))\n",
    "print(getAllSubstringsWithPositions(text, 'C#'))"
   ]
  },
  {
   "cell_type": "markdown",
   "metadata": {},
   "source": [
    "#### Question 19- Write a Python program to convert a date of yyyy-mm-dd format to dd-mm-yyyy format."
   ]
  },
  {
   "cell_type": "code",
   "execution_count": 20,
   "metadata": {},
   "outputs": [
    {
     "name": "stdout",
     "output_type": "stream",
     "text": [
      "['02-01-2026', '12-11-2024']\n"
     ]
    }
   ],
   "source": [
    "def changeDateFormat(doc):\n",
    "    pattern=r'\\d{4,4}-\\d{2,2}-\\d{2,2}'\n",
    "    p=re.compile(pattern=pattern, flags=re.IGNORECASE)\n",
    "    matches=p.findall(doc)\n",
    "    date_matches=[re.split(pattern='-', string=match) for match in matches]\n",
    "    new_format_dates=[]\n",
    "    for aDate in date_matches:\n",
    "        new_format_dates.append(aDate[2]+'-'+aDate[1]+'-'+aDate[0])\n",
    "    return new_format_dates\n",
    "\n",
    "dt1 = \"2026-01-02 is the format in yyyy-mm-dd with another date as 2024-11-12\"\n",
    "print(changeDateFormat(dt1))"
   ]
  },
  {
   "cell_type": "markdown",
   "metadata": {},
   "source": [
    "#### Question 20- Create a function in python to find all decimal numbers with a precision of 1 or 2 in a string. The use of the re.compile() method is mandatory.\n",
    "\n",
    "#### Sample Text: \"01.12 0132.123 2.31875 145.8 3.01 27.25 0.25\"\n",
    "\n",
    "#### Expected Output: ['01.12', '145.8', '3.01', '27.25', '0.25']"
   ]
  },
  {
   "cell_type": "code",
   "execution_count": 21,
   "metadata": {},
   "outputs": [
    {
     "data": {
      "text/plain": [
       "['01.12', '145.8', '3.01', '27.25', '0.25']"
      ]
     },
     "execution_count": 21,
     "metadata": {},
     "output_type": "execute_result"
    }
   ],
   "source": [
    "def extractNumbersWithUptoTwoDecimal(text):\n",
    "    pattern=r'\\b\\d+\\.\\d{1,2}\\b'\n",
    "    p=re.compile(pattern=pattern)\n",
    "    return p.findall(text)\n",
    "\n",
    "text='01.12 0132.123 2.31875 145.8 3.01 27.25 0.25'\n",
    "extractNumbersWithUptoTwoDecimal(text)"
   ]
  },
  {
   "cell_type": "markdown",
   "metadata": {},
   "source": [
    "#### Question 21- Write a Python program to separate and print the numbers and their position of a given string."
   ]
  },
  {
   "cell_type": "code",
   "execution_count": 22,
   "metadata": {},
   "outputs": [
    {
     "data": {
      "text/plain": [
       "{'3': [6, 26, 27], '7': [7], '9': [8, 24], '4': [9, 22], '5': [23], '6': [25]}"
      ]
     },
     "execution_count": 22,
     "metadata": {},
     "output_type": "execute_result"
    }
   ],
   "source": [
    "def extractNumbersWithPosition(text):\n",
    "    pattern=r'\\d'\n",
    "    p=re.compile(pattern=pattern)\n",
    "    num_with_pos={}\n",
    "    for m in p.finditer(text):\n",
    "        if m.group() not in num_with_pos.keys():\n",
    "            num_with_pos[m.group()]=[]\n",
    "            num_with_pos[m.group()].append(m.start())\n",
    "        else:\n",
    "            num_with_pos[m.group()].append(m.start())\n",
    "    return num_with_pos\n",
    "\n",
    "text='I got 3794 videos and 459633 pictures on my phone'\n",
    "extractNumbersWithPosition(text)"
   ]
  },
  {
   "cell_type": "markdown",
   "metadata": {},
   "source": [
    "#### Question 22- Write a regular expression in python program to extract maximum/largest numeric value from a string.\n",
    "\n",
    "#### Sample Text:  'My marks in each semester are: 947, 896, 926, 524, 734, 950, 642'\n",
    "\n",
    "#### Expected Output: 950"
   ]
  },
  {
   "cell_type": "code",
   "execution_count": 23,
   "metadata": {},
   "outputs": [
    {
     "data": {
      "text/plain": [
       "950"
      ]
     },
     "execution_count": 23,
     "metadata": {},
     "output_type": "execute_result"
    }
   ],
   "source": [
    "def extractLargestNumber(text):\n",
    "    pattern=re.compile(pattern=r'\\b\\d+\\b')\n",
    "    numbers=np.array(pattern.findall(text))\n",
    "    numbers=numbers.astype(np.int64)\n",
    "    return numbers.max()\n",
    "\n",
    "text='My marks in each semester are: 947, 896, 926, 524, 734, 950, 642'\n",
    "extractLargestNumber(text)"
   ]
  },
  {
   "cell_type": "markdown",
   "metadata": {},
   "source": [
    "#### Question 23- Create a function in python to insert spaces between words starting with capital letters.\n",
    "\n",
    "#### Sample Text: “RegularExpressionIsAnImportantTopicInPython\"\n",
    "\n",
    "#### Expected Output: Regular Expression Is An Important Topic In Python"
   ]
  },
  {
   "cell_type": "code",
   "execution_count": 24,
   "metadata": {},
   "outputs": [
    {
     "data": {
      "text/plain": [
       "'Regular Expression Is An Important Topic In Python'"
      ]
     },
     "execution_count": 24,
     "metadata": {},
     "output_type": "execute_result"
    }
   ],
   "source": [
    "def putSpaceBeforeWordsStartingWithCapitalLetter(text):\n",
    "    pattern=re.compile(pattern=r'([A-Z][^A-Z]*)')\n",
    "    return pattern.sub(string=text, repl=r' \\1').strip()\n",
    "\n",
    "text='RegularExpressionIsAnImportantTopicInPython'\n",
    "putSpaceBeforeWordsStartingWithCapitalLetter(text)"
   ]
  },
  {
   "cell_type": "markdown",
   "metadata": {},
   "source": [
    "#### Question 24- Python regex to find sequences of one upper case letter followed by lower case letters"
   ]
  },
  {
   "cell_type": "code",
   "execution_count": 25,
   "metadata": {},
   "outputs": [
    {
     "data": {
      "text/plain": [
       "['Regular',\n",
       " 'Expression',\n",
       " 'Is',\n",
       " 'An',\n",
       " 'Important',\n",
       " 'Topic',\n",
       " 'In',\n",
       " 'Python',\n",
       " 'H']"
      ]
     },
     "execution_count": 25,
     "metadata": {},
     "output_type": "execute_result"
    }
   ],
   "source": [
    "def extractSequencesWithInitCap(text):\n",
    "    pattern=re.compile(pattern=r'[A-Z][a-z]*')\n",
    "    return pattern.findall(text)\n",
    "\n",
    "text='RegularExpressionIsAnImportantTopicInPythonH'\n",
    "extractSequencesWithInitCap(text)"
   ]
  },
  {
   "cell_type": "markdown",
   "metadata": {},
   "source": [
    "#### Question 25- Write a Python program to remove continuous duplicate words from Sentence using Regular Expression.\n",
    "\n",
    "#### Sample Text: \"Hello hello world world\"\n",
    "\n",
    "#### Expected Output: Hello hello world"
   ]
  },
  {
   "cell_type": "code",
   "execution_count": 26,
   "metadata": {},
   "outputs": [
    {
     "name": "stdout",
     "output_type": "stream",
     "text": [
      "Hello hello world\n",
      "Hello hello world\n"
     ]
    }
   ],
   "source": [
    "def removeDuplicateWords(text):\n",
    "    pattern=re.compile(pattern=r'\\b(\\w+)(\\W+\\1)+\\b')\n",
    "    return pattern.sub(string=text, repl=r'\\1')\n",
    "\n",
    "text='Hello hello world world world'\n",
    "print(removeDuplicateWords(text))\n",
    "text='Hello hello hello world world world'\n",
    "print(removeDuplicateWords(text))"
   ]
  },
  {
   "cell_type": "markdown",
   "metadata": {},
   "source": [
    "#### Question 26-  Write a python program using RegEx to accept string ending with alphanumeric character."
   ]
  },
  {
   "cell_type": "code",
   "execution_count": 27,
   "metadata": {},
   "outputs": [
    {
     "name": "stdout",
     "output_type": "stream",
     "text": [
      "Your input 'Hi there' is accepted\n"
     ]
    }
   ],
   "source": [
    "def acceptTextEndingWithAlphaNumeric(text):\n",
    "    pattern=re.compile(pattern=r'\\w$')\n",
    "    if len(pattern.findall(text))>0:\n",
    "        return True\n",
    "    else:\n",
    "        return False\n",
    "\n",
    "while True:\n",
    "    user_inp=input('Enter a text ending with alpha numeric charachter:')\n",
    "    if acceptTextEndingWithAlphaNumeric(user_inp):\n",
    "        print(f'Your input \\'{user_inp}\\' is accepted')\n",
    "        break\n",
    "    else:\n",
    "        continue\n",
    "        "
   ]
  },
  {
   "cell_type": "markdown",
   "metadata": {},
   "source": [
    "#### Question 27-Write a python program using RegEx to extract the hashtags.\n",
    "\n",
    "#### Sample Text:  \"\"\"RT @kapil_kausik: #Doltiwal I mean #xyzabc is \"hurt\" by #Demonetization as the same has rendered USELESS <ed><U+00A0><U+00BD><ed><U+00B1><U+0089> \"acquired funds\" No wo\"\"\"\n",
    "\n",
    "#### Expected Output: ['#Doltiwal', '#xyzabc', '#Demonetization']"
   ]
  },
  {
   "cell_type": "code",
   "execution_count": 28,
   "metadata": {},
   "outputs": [
    {
     "data": {
      "text/plain": [
       "['#Doltiwal', '#xyzabc', '#Demonetization']"
      ]
     },
     "execution_count": 28,
     "metadata": {},
     "output_type": "execute_result"
    }
   ],
   "source": [
    "def extractHashTag(text):\n",
    "    pattern=re.compile(pattern=r'#\\w+')\n",
    "    return pattern.findall(text)\n",
    "\n",
    "text=\"\"\"RT @kapil_kausik: #Doltiwal I mean #xyzabc is \"hurt\" by #Demonetization \n",
    "        as the same has rendered USELESS \n",
    "        <ed><U+00A0><U+00BD><ed><U+00B1><U+0089> \"acquired funds\" No wo\"\"\"\n",
    "        \n",
    "extractHashTag(text)"
   ]
  },
  {
   "cell_type": "markdown",
   "metadata": {},
   "source": [
    "#### Question 28- Write a python program using RegEx to remove <U+..> like symbols\n",
    "\n",
    "#### Check the below sample text, there are strange symbols something of the sort <U+..> all over the place. You need to come up with a general Regex expression that will cover all such symbols.\n",
    "\n",
    "#### Sample Text: \"@Jags123456 Bharat band on 28??<ed><U+00A0><U+00BD><ed><U+00B8><U+0082>Those who  are protesting #demonetization  are all different party leaders\"\n",
    "\n",
    "#### Expected Output: @Jags123456 Bharat band on 28??<ed><ed>Those who  are protesting #demonetization  are all different party leaders"
   ]
  },
  {
   "cell_type": "code",
   "execution_count": 29,
   "metadata": {},
   "outputs": [
    {
     "data": {
      "text/plain": [
       "'@Jags123456 Bharat band on 28??Those who  are protesting #demonetization  are all different party leaders'"
      ]
     },
     "execution_count": 29,
     "metadata": {},
     "output_type": "execute_result"
    }
   ],
   "source": [
    "def removeSymbols(text):\n",
    "    pattern=re.compile(pattern=r'<.*>')\n",
    "    return pattern.sub(string=text, repl='')\n",
    "\n",
    "text='@Jags123456 Bharat band on 28??<ed><U+00A0><U+00BD><ed><U+00B8><U+0082>Those who  are protesting #demonetization  are all different party leaders'\n",
    "removeSymbols(text)"
   ]
  },
  {
   "cell_type": "markdown",
   "metadata": {},
   "source": [
    "#### Question 29- Write a python program to extract dates from the text stored in the text file.\n",
    "\n",
    "#### Sample Text: Ron was born on 12-09-1992 and he was admitted to school 15-12-1999.\n",
    "\n",
    "#### Note- Store this sample text in the file and then extract dates."
   ]
  },
  {
   "cell_type": "code",
   "execution_count": 30,
   "metadata": {},
   "outputs": [
    {
     "data": {
      "text/plain": [
       "['12-09-1992', '15-12-1999']"
      ]
     },
     "execution_count": 30,
     "metadata": {},
     "output_type": "execute_result"
    }
   ],
   "source": [
    "def extractDatesFromFile(f):\n",
    "    with open(file=f, mode='r') as txt:\n",
    "        text=txt.read()\n",
    "    pattern=re.compile(pattern=r'\\b(0?[1-9]|1[0-9]|2[0-9]|3[0-1])-(0?[1-9]|1[0-2])-(\\d{4})\\b')\n",
    "    matches=[]\n",
    "    for m in pattern.finditer(text):\n",
    "        matches.append(m.group())\n",
    "    return matches\n",
    "\n",
    "with open(file='./text_file.txt', mode='w') as f:\n",
    "    f.write('Ron was born on 12-09-1992 and he was admitted to school 15-12-1999.')\n",
    "extractDatesFromFile('./text_file.txt')"
   ]
  },
  {
   "cell_type": "markdown",
   "metadata": {},
   "source": [
    "#### Question 30- Create a function in python to remove all words from a string of length between 2 and 4.\n",
    "\n",
    "#### The use of the re.compile() method is mandatory.\n",
    "\n",
    "#### Sample Text: \"The following example creates an ArrayList with a capacity of 50 elements. 4 elements are then added to the ArrayList and the ArrayList is trimmed accordingly.\"\n",
    "\n",
    "#### Expected Output:  following example creates ArrayList a capacity elements. 4 elements added ArrayList ArrayList trimmed accordingly."
   ]
  },
  {
   "cell_type": "code",
   "execution_count": 31,
   "metadata": {},
   "outputs": [
    {
     "data": {
      "text/plain": [
       "'following example creates  ArrayList  a capacity   elements. 4 elements   added   ArrayList   ArrayList  trimmed accordingly.'"
      ]
     },
     "execution_count": 31,
     "metadata": {},
     "output_type": "execute_result"
    }
   ],
   "source": [
    "def removeWordsOfLengthTwoToFour(text):\n",
    "    pattern=re.compile(pattern=r'\\b\\w{2,4}\\b')\n",
    "    return pattern.sub(string=text, repl='').strip()\n",
    "\n",
    "text='The following example creates an ArrayList with a capacity of 50 elements. 4 elements are then added to the ArrayList and the ArrayList is trimmed accordingly.'\n",
    "removeWordsOfLengthTwoToFour(text)"
   ]
  }
 ],
 "metadata": {
  "kernelspec": {
   "display_name": "Fliprobo-hQxKB0Rb",
   "language": "python",
   "name": "python3"
  },
  "language_info": {
   "codemirror_mode": {
    "name": "ipython",
    "version": 3
   },
   "file_extension": ".py",
   "mimetype": "text/x-python",
   "name": "python",
   "nbconvert_exporter": "python",
   "pygments_lexer": "ipython3",
   "version": "3.10.11"
  }
 },
 "nbformat": 4,
 "nbformat_minor": 2
}
