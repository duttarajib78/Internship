{
 "cells": [
  {
   "cell_type": "markdown",
   "metadata": {},
   "source": [
    "## Code for RegEx exercises\n",
    "## Rajib Dutta \n",
    "## duttarajib78@gmail.com \n",
    "## Batch DS2402"
   ]
  },
  {
   "cell_type": "code",
   "execution_count": 1,
   "metadata": {},
   "outputs": [],
   "source": [
    "import re"
   ]
  },
  {
   "cell_type": "markdown",
   "metadata": {},
   "source": [
    "#### Question 1- Write a RegEx pattern in python program to check that a string contains only a certain set of characters (in this case a-z, A-Z and 0-9)."
   ]
  },
  {
   "cell_type": "code",
   "execution_count": 2,
   "metadata": {},
   "outputs": [
    {
     "data": {
      "text/plain": [
       "['abc', '1999', 'yellohouse', 'I', 'love', 'python', 'ML']"
      ]
     },
     "execution_count": 2,
     "metadata": {},
     "output_type": "execute_result"
    }
   ],
   "source": [
    "doc='abc_1999 yellohouse I love python & ML'\n",
    "pattern='[^\\W_]+'\n",
    "p=re.compile(pattern=pattern, flags=re.IGNORECASE)\n",
    "p.findall(doc)"
   ]
  },
  {
   "cell_type": "markdown",
   "metadata": {},
   "source": [
    "### Question 2- Write a RegEx pattern that matches a string that has an a followed by zero or more b's"
   ]
  },
  {
   "cell_type": "code",
   "execution_count": 3,
   "metadata": {},
   "outputs": [
    {
     "data": {
      "text/plain": [
       "['ab', 'abbbb', 'abb', 'a']"
      ]
     },
     "execution_count": 3,
     "metadata": {},
     "output_type": "execute_result"
    }
   ],
   "source": [
    "doc='abc_1999 yellohouse I love python & ML babbbble abb is my friend who is a ML engineer'\n",
    "pattern='(ab*)'\n",
    "p=re.compile(pattern=pattern, flags=re.IGNORECASE)\n",
    "p.findall(doc)"
   ]
  },
  {
   "cell_type": "markdown",
   "metadata": {},
   "source": [
    "### Question 3-  Write a RegEx pattern that matches a string that has an a followed by one or more b's"
   ]
  },
  {
   "cell_type": "code",
   "execution_count": 4,
   "metadata": {},
   "outputs": [
    {
     "data": {
      "text/plain": [
       "['ab', 'abbbb', 'abb']"
      ]
     },
     "execution_count": 4,
     "metadata": {},
     "output_type": "execute_result"
    }
   ],
   "source": [
    "doc='abc_1999 yellohouse I love python & ML babbbble abb is my friend who is a ML engineer'\n",
    "pattern='(ab+)'\n",
    "p=re.compile(pattern=pattern, flags=re.IGNORECASE)\n",
    "p.findall(doc)"
   ]
  },
  {
   "cell_type": "markdown",
   "metadata": {},
   "source": [
    "### Question 4- Write a RegEx pattern that matches a string that has an a followed by zero or one 'b'."
   ]
  },
  {
   "cell_type": "code",
   "execution_count": 5,
   "metadata": {},
   "outputs": [
    {
     "data": {
      "text/plain": [
       "['ab', 'ab', 'ab', 'a']"
      ]
     },
     "execution_count": 5,
     "metadata": {},
     "output_type": "execute_result"
    }
   ],
   "source": [
    "doc='abc_1999 yellohouse I love python & ML babbbble abb is my friend who is a ML engineer'\n",
    "pattern='(ab?)'\n",
    "p=re.compile(pattern=pattern, flags=re.IGNORECASE)\n",
    "p.findall(doc)"
   ]
  },
  {
   "cell_type": "markdown",
   "metadata": {},
   "source": [
    "### Question 5- Write a RegEx pattern in python program that matches a string that has an a followed by three 'b'."
   ]
  },
  {
   "cell_type": "code",
   "execution_count": 6,
   "metadata": {},
   "outputs": [
    {
     "data": {
      "text/plain": [
       "['abbb', 'abbb']"
      ]
     },
     "execution_count": 6,
     "metadata": {},
     "output_type": "execute_result"
    }
   ],
   "source": [
    "doc='abc_1999 yellohouse I love python & ML babbbble abbb is my friend who is a ML engineer'\n",
    "pattern='(ab{3,3})'\n",
    "p=re.compile(pattern=pattern, flags=re.IGNORECASE)\n",
    "p.findall(doc)"
   ]
  },
  {
   "cell_type": "markdown",
   "metadata": {},
   "source": [
    "### Question 6- Write a RegEx pattern in python program that matches a string that has an a followed by two to three 'b'."
   ]
  },
  {
   "cell_type": "code",
   "execution_count": 7,
   "metadata": {},
   "outputs": [
    {
     "data": {
      "text/plain": [
       "['abbb', 'abb']"
      ]
     },
     "execution_count": 7,
     "metadata": {},
     "output_type": "execute_result"
    }
   ],
   "source": [
    "doc='abc_1999 yellohouse I love python & ML babbbble abb is my friend who is a ML engineer'\n",
    "pattern='(ab{2,3})'\n",
    "p=re.compile(pattern=pattern, flags=re.IGNORECASE)\n",
    "p.findall(doc)"
   ]
  },
  {
   "cell_type": "markdown",
   "metadata": {},
   "source": [
    "### Question 7- Write a Python program that matches a string that has an 'a' followed by anything, ending in 'b'."
   ]
  },
  {
   "cell_type": "code",
   "execution_count": 8,
   "metadata": {},
   "outputs": [
    {
     "data": {
      "text/plain": [
       "['abbbble abb']"
      ]
     },
     "execution_count": 8,
     "metadata": {},
     "output_type": "execute_result"
    }
   ],
   "source": [
    "doc='bc_1999 yellohouse I love python & ML babbbble abb'\n",
    "pattern='a.*b$'\n",
    "p=re.compile(pattern=pattern, flags=re.IGNORECASE)\n",
    "p.findall(doc)"
   ]
  },
  {
   "cell_type": "markdown",
   "metadata": {},
   "source": [
    "### Question 8- Write a RegEx pattern in python program that matches a word at the beginning of a string."
   ]
  },
  {
   "cell_type": "code",
   "execution_count": 9,
   "metadata": {},
   "outputs": [
    {
     "data": {
      "text/plain": [
       "['bc_1999']"
      ]
     },
     "execution_count": 9,
     "metadata": {},
     "output_type": "execute_result"
    }
   ],
   "source": [
    "doc='bc_1999 yellohouse I love python & ML bc_1999 abb'\n",
    "pattern='^(bc_1999)'\n",
    "p=re.compile(pattern=pattern, flags=re.IGNORECASE)\n",
    "p.findall(doc)"
   ]
  },
  {
   "cell_type": "markdown",
   "metadata": {},
   "source": [
    "### Question 9- Write a RegEx pattern in python program that matches a word at the end of a string."
   ]
  },
  {
   "cell_type": "code",
   "execution_count": 10,
   "metadata": {},
   "outputs": [
    {
     "data": {
      "text/plain": [
       "<re.Match object; span=(38, 45), match='bc_1999'>"
      ]
     },
     "execution_count": 10,
     "metadata": {},
     "output_type": "execute_result"
    }
   ],
   "source": [
    "doc='bc_1999 yellohouse I love python & ML bc_1999'\n",
    "pattern='(bc_1999)$'\n",
    "p=re.compile(pattern=pattern, flags=re.IGNORECASE)\n",
    "p.search(doc)"
   ]
  },
  {
   "cell_type": "markdown",
   "metadata": {},
   "source": [
    "### Question 10- Write a RegEx pattern in python program to find all words that are 4 digits long in a string."
   ]
  },
  {
   "cell_type": "code",
   "execution_count": 11,
   "metadata": {},
   "outputs": [
    {
     "data": {
      "text/plain": [
       "['0132', '1458', '2725']"
      ]
     },
     "execution_count": 11,
     "metadata": {},
     "output_type": "execute_result"
    }
   ],
   "source": [
    "doc='01 0132 231875 1458 301 2725.'\n",
    "pattern='\\D\\d{4,4}\\D'\n",
    "p=re.compile(pattern=pattern, flags=re.IGNORECASE)\n",
    "[re.search('\\d+', number).group() for number in p.findall(doc)]"
   ]
  }
 ],
 "metadata": {
  "kernelspec": {
   "display_name": "Fliprobo-hQxKB0Rb",
   "language": "python",
   "name": "python3"
  },
  "language_info": {
   "codemirror_mode": {
    "name": "ipython",
    "version": 3
   },
   "file_extension": ".py",
   "mimetype": "text/x-python",
   "name": "python",
   "nbconvert_exporter": "python",
   "pygments_lexer": "ipython3",
   "version": "3.10.11"
  }
 },
 "nbformat": 4,
 "nbformat_minor": 2
}
